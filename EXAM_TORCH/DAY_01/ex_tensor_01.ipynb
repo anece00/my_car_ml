{
 "cells": [
  {
   "cell_type": "code",
   "execution_count": 2,
   "id": "6ae6b7c0",
   "metadata": {},
   "outputs": [],
   "source": [
    "import torch"
   ]
  },
  {
   "cell_type": "markdown",
   "id": "1e346c98",
   "metadata": {},
   "source": [
    "#### - GPU 가용여부"
   ]
  },
  {
   "cell_type": "code",
   "execution_count": 10,
   "id": "a28b6242",
   "metadata": {},
   "outputs": [
    {
     "name": "stdout",
     "output_type": "stream",
     "text": [
      "No GPU!\n"
     ]
    }
   ],
   "source": [
    "if torch.cuda.is_available():\n",
    "    print(f'{torch.cuda.current_device()}')\n",
    "    print(f'{torch.cuda.get_device_name()}')\n",
    "    print(f'{torch.cuda.get_device_capability()}')\n",
    "else:\n",
    "    print('No GPU!')"
   ]
  },
  {
   "cell_type": "markdown",
   "id": "74f9aa42",
   "metadata": {},
   "source": [
    "### - Tensor 생성 방법  (1)"
   ]
  },
  {
   "cell_type": "code",
   "execution_count": 14,
   "id": "745d038e",
   "metadata": {},
   "outputs": [],
   "source": [
    "# Tensor 속성 출력 함수 ---------------------------------------------\n",
    "def printAttribute(tensor_, name):\n",
    "    print(f'\\n--- [{name}] ---')\n",
    "    print(f'형태 : {tensor_.shape}, {tensor_.size()}')\n",
    "    print(f'차원 : {tensor_.ndim}, {tensor_.dim()}')\n",
    "    print(f'타입 : {tensor_.dtype}')\n",
    "    print(f'위치 : {tensor_.device}')\n",
    "    print(tensor_.data)"
   ]
  },
  {
   "cell_type": "code",
   "execution_count": 17,
   "id": "4e308bad",
   "metadata": {},
   "outputs": [],
   "source": [
    "t1=torch.tensor([1,2,3,4])\n",
    "t2=torch.tensor([11,22], dtype=torch.float16)\n",
    "t3=torch.tensor([[1,1],[4,5]])\n",
    "t4=torch.tensor(5)"
   ]
  },
  {
   "cell_type": "code",
   "execution_count": 18,
   "id": "d1023cb4",
   "metadata": {},
   "outputs": [
    {
     "name": "stdout",
     "output_type": "stream",
     "text": [
      "\n",
      "--- [t1] ---\n",
      "형태 : torch.Size([4]), torch.Size([4])\n",
      "차원 : 1, 1\n",
      "타입 : torch.int64\n",
      "위치 : cpu\n",
      "tensor([1, 2, 3, 4])\n",
      "\n",
      "--- [t2] ---\n",
      "형태 : torch.Size([2]), torch.Size([2])\n",
      "차원 : 1, 1\n",
      "타입 : torch.float16\n",
      "위치 : cpu\n",
      "tensor([11., 22.], dtype=torch.float16)\n",
      "\n",
      "--- [t3] ---\n",
      "형태 : torch.Size([2, 2]), torch.Size([2, 2])\n",
      "차원 : 2, 2\n",
      "타입 : torch.int64\n",
      "위치 : cpu\n",
      "tensor([[1, 1],\n",
      "        [4, 5]])\n",
      "\n",
      "--- [t4] ---\n",
      "형태 : torch.Size([]), torch.Size([])\n",
      "차원 : 0, 0\n",
      "타입 : torch.int64\n",
      "위치 : cpu\n",
      "tensor(5)\n"
     ]
    }
   ],
   "source": [
    "printAttribute(t1, 't1')\n",
    "printAttribute(t2, 't2')\n",
    "printAttribute(t3, 't3')\n",
    "printAttribute(t4, 't4')"
   ]
  },
  {
   "cell_type": "markdown",
   "id": "0695e72b",
   "metadata": {},
   "source": [
    "- 특정 타입의 텐서 생성"
   ]
  },
  {
   "cell_type": "code",
   "execution_count": 58,
   "id": "3374b885",
   "metadata": {},
   "outputs": [],
   "source": [
    "t1=torch.FloatTensor([1,2])\n",
    "t2=torch.IntTensor([11,22])\n",
    "t3=torch.DoubleTensor([1,2])\n",
    "t4=torch.CharTensor([1,2])\n",
    "t5=torch.LongTensor([1,2])\n",
    "t6=torch.BoolTensor([1,2,0])\n",
    "t7=torch.Tensor([1,2,0])\n",
    "t8=torch.Tensor([1.,2,0])"
   ]
  },
  {
   "cell_type": "code",
   "execution_count": 59,
   "id": "10164102",
   "metadata": {
    "scrolled": true
   },
   "outputs": [
    {
     "name": "stdout",
     "output_type": "stream",
     "text": [
      "\n",
      "--- [t1 - FloatTensor] ---\n",
      "형태 : torch.Size([2])\n",
      "차원 : 1\n",
      "타입 : torch.float32\n",
      "위치 : cpu\n",
      "tensor([1., 2.])\n",
      "\n",
      "--- [t2 - IntTensor] ---\n",
      "형태 : torch.Size([2])\n",
      "차원 : 1\n",
      "타입 : torch.int32\n",
      "위치 : cpu\n",
      "tensor([11, 22], dtype=torch.int32)\n",
      "\n",
      "--- [t3 - DoubleTensor] ---\n",
      "형태 : torch.Size([2])\n",
      "차원 : 1\n",
      "타입 : torch.float64\n",
      "위치 : cpu\n",
      "tensor([1., 2.], dtype=torch.float64)\n",
      "\n",
      "--- [t4 - CharTensor] ---\n",
      "형태 : torch.Size([2])\n",
      "차원 : 1\n",
      "타입 : torch.int8\n",
      "위치 : cpu\n",
      "tensor([1, 2], dtype=torch.int8)\n",
      "\n",
      "--- [t5 - LongTensor] ---\n",
      "형태 : torch.Size([2])\n",
      "차원 : 1\n",
      "타입 : torch.int64\n",
      "위치 : cpu\n",
      "tensor([1, 2])\n",
      "\n",
      "--- [t6 - BoolTensor] ---\n",
      "형태 : torch.Size([3])\n",
      "차원 : 1\n",
      "타입 : torch.bool\n",
      "위치 : cpu\n",
      "tensor([ True,  True, False])\n",
      "\n",
      "--- [t7 - Tensor] ---\n",
      "형태 : torch.Size([3])\n",
      "차원 : 1\n",
      "타입 : torch.float32\n",
      "위치 : cpu\n",
      "tensor([1., 2., 0.])\n",
      "\n",
      "--- [t8 - Tensor] ---\n",
      "형태 : torch.Size([3])\n",
      "차원 : 1\n",
      "타입 : torch.float32\n",
      "위치 : cpu\n",
      "tensor([1., 2., 0.])\n"
     ]
    }
   ],
   "source": [
    "printAttribute(t1, 't1 - FloatTensor')\n",
    "printAttribute(t2, 't2 - IntTensor')\n",
    "printAttribute(t3, 't3 - DoubleTensor')\n",
    "printAttribute(t4, 't4 - CharTensor')\n",
    "printAttribute(t5, 't5 - LongTensor')\n",
    "printAttribute(t6, 't6 - BoolTensor')\n",
    "printAttribute(t7, 't7 - Tensor')\n",
    "printAttribute(t8, 't8 - Tensor')"
   ]
  },
  {
   "cell_type": "markdown",
   "id": "982cbe2f",
   "metadata": {},
   "source": [
    "### ▶ 특정값으로 채운 Tensor 생성"
   ]
  },
  {
   "cell_type": "code",
   "execution_count": 60,
   "id": "6c6e4577",
   "metadata": {},
   "outputs": [],
   "source": [
    "t1=torch.ones((2,))\n",
    "t2=torch.ones((3,4))"
   ]
  },
  {
   "cell_type": "code",
   "execution_count": 61,
   "id": "629c3f42",
   "metadata": {
    "collapsed": true
   },
   "outputs": [
    {
     "name": "stdout",
     "output_type": "stream",
     "text": [
      "\n",
      "--- [t1] ---\n",
      "형태 : torch.Size([2])\n",
      "차원 : 1\n",
      "타입 : torch.float32\n",
      "위치 : cpu\n",
      "tensor([1., 1.])\n",
      "\n",
      "--- [t2] ---\n",
      "형태 : torch.Size([3, 4])\n",
      "차원 : 2\n",
      "타입 : torch.float32\n",
      "위치 : cpu\n",
      "tensor([[1., 1., 1., 1.],\n",
      "        [1., 1., 1., 1.],\n",
      "        [1., 1., 1., 1.]])\n"
     ]
    }
   ],
   "source": [
    "printAttribute(t1, 't1')\n",
    "printAttribute(t2, 't2')"
   ]
  },
  {
   "cell_type": "code",
   "execution_count": 62,
   "id": "d604b5ce",
   "metadata": {},
   "outputs": [
    {
     "name": "stdout",
     "output_type": "stream",
     "text": [
      "\n",
      "--- [t1] ---\n",
      "형태 : torch.Size([2])\n",
      "차원 : 1\n",
      "타입 : torch.float32\n",
      "위치 : cpu\n",
      "tensor([0., 0.])\n",
      "\n",
      "--- [t2] ---\n",
      "형태 : torch.Size([3, 4])\n",
      "차원 : 2\n",
      "타입 : torch.float32\n",
      "위치 : cpu\n",
      "tensor([[0., 0., 0., 0.],\n",
      "        [0., 0., 0., 0.],\n",
      "        [0., 0., 0., 0.]])\n"
     ]
    }
   ],
   "source": [
    "t1=torch.zeros((2,))\n",
    "t2=torch.zeros((3,4))\n",
    "\n",
    "printAttribute(t1, 't1')\n",
    "printAttribute(t2, 't2')"
   ]
  },
  {
   "cell_type": "code",
   "execution_count": 43,
   "id": "8b2aa7ff",
   "metadata": {},
   "outputs": [
    {
     "name": "stdout",
     "output_type": "stream",
     "text": [
      "\n",
      "--- [t1] ---\n",
      "형태 : torch.Size([2]), torch.Size([2])\n",
      "차원 : 1, 1\n",
      "타입 : torch.int64\n",
      "위치 : cpu\n",
      "tensor([9, 9])\n",
      "\n",
      "--- [t2] ---\n",
      "형태 : torch.Size([3]), torch.Size([3])\n",
      "차원 : 1, 1\n",
      "타입 : torch.int64\n",
      "위치 : cpu\n",
      "tensor([4, 4, 4])\n"
     ]
    }
   ],
   "source": [
    "# 지정된 값으로 채운 Tensor\n",
    "t1=torch.full((2,), 9)\n",
    "t2=torch.full((3,),4)\n",
    "\n",
    "printAttribute(t1, 't1')\n",
    "printAttribute(t2, 't2')"
   ]
  },
  {
   "cell_type": "code",
   "execution_count": 44,
   "id": "5d67f6f4",
   "metadata": {},
   "outputs": [
    {
     "name": "stdout",
     "output_type": "stream",
     "text": [
      "\n",
      "--- [t1] ---\n",
      "형태 : torch.Size([3, 3]), torch.Size([3, 3])\n",
      "차원 : 2, 2\n",
      "타입 : torch.float32\n",
      "위치 : cpu\n",
      "tensor([[1., 0., 0.],\n",
      "        [0., 1., 0.],\n",
      "        [0., 0., 1.]])\n",
      "\n",
      "--- [t2] ---\n",
      "형태 : torch.Size([2, 2]), torch.Size([2, 2])\n",
      "차원 : 2, 2\n",
      "타입 : torch.float32\n",
      "위치 : cpu\n",
      "tensor([[1., 0.],\n",
      "        [0., 1.]])\n",
      "\n",
      "--- [t3] ---\n",
      "형태 : torch.Size([2, 4]), torch.Size([2, 4])\n",
      "차원 : 2, 2\n",
      "타입 : torch.float32\n",
      "위치 : cpu\n",
      "tensor([[1., 0., 0., 0.],\n",
      "        [0., 1., 0., 0.]])\n"
     ]
    }
   ],
   "source": [
    "# 대각선으로만 1을 채운 Tensor, 대칭행렬\n",
    "t1=torch.eye((3))\n",
    "t2=torch.eye(2)\n",
    "t3=torch.eye(2,4)\n",
    "\n",
    "printAttribute(t1, 't1')\n",
    "printAttribute(t2, 't2')\n",
    "printAttribute(t3, 't3')"
   ]
  },
  {
   "cell_type": "code",
   "execution_count": 40,
   "id": "bcfcca15",
   "metadata": {
    "collapsed": true
   },
   "outputs": [
    {
     "name": "stdout",
     "output_type": "stream",
     "text": [
      "\n",
      "--- [t3] ---\n",
      "형태 : torch.Size([2, 3]), torch.Size([2, 3])\n",
      "차원 : 2, 2\n",
      "타입 : torch.int64\n",
      "위치 : cpu\n",
      "tensor([[1, 0, 1],\n",
      "        [1, 1, 0]])\n",
      "\n",
      "--- [t1] ---\n",
      "형태 : torch.Size([2, 3]), torch.Size([2, 3])\n",
      "차원 : 2, 2\n",
      "타입 : torch.float32\n",
      "위치 : cpu\n",
      "tensor([[0.6968, 0.5226, 0.3855],\n",
      "        [0.5747, 0.4869, 0.8993]])\n",
      "\n",
      "--- [t2] ---\n",
      "형태 : torch.Size([3]), torch.Size([3])\n",
      "차원 : 1, 1\n",
      "타입 : torch.float32\n",
      "위치 : cpu\n",
      "tensor([0.0055, 1.1748, 0.2235])\n"
     ]
    }
   ],
   "source": [
    "# 임의의 값으로 채운 Tensor\n",
    "t1=torch.rand((2,3))\n",
    "t2=torch.randn(3)\n",
    "t3=torch.randint(low=0, high=3, size=(2,3))\n",
    "printAttribute(t3, 't3')\n",
    "printAttribute(t1, 't1')\n",
    "printAttribute(t2, 't2')\n"
   ]
  },
  {
   "cell_type": "code",
   "execution_count": 57,
   "id": "afc217d5",
   "metadata": {},
   "outputs": [],
   "source": [
    "t1=torch.tensor([11.,22.])"
   ]
  },
  {
   "cell_type": "code",
   "execution_count": 58,
   "id": "106d4c80",
   "metadata": {},
   "outputs": [
    {
     "name": "stderr",
     "output_type": "stream",
     "text": [
      "C:\\Users\\kwon\\AppData\\Local\\Temp\\ipykernel_11312\\4091555117.py:2: UserWarning: To copy construct from a tensor, it is recommended to use sourceTensor.clone().detach() or sourceTensor.clone().detach().requires_grad_(True), rather than torch.tensor(sourceTensor).\n",
      "  t3=torch.tensor(t1)\n"
     ]
    }
   ],
   "source": [
    "t2=torch.as_tensor(t1)\n",
    "t3=torch.tensor(t1)"
   ]
  },
  {
   "cell_type": "code",
   "execution_count": 59,
   "id": "af066c66",
   "metadata": {},
   "outputs": [],
   "source": [
    "t1[0]=5.9"
   ]
  },
  {
   "cell_type": "code",
   "execution_count": 61,
   "id": "1de65e6f",
   "metadata": {},
   "outputs": [
    {
     "data": {
      "text/plain": [
       "(tensor([ 5.9000, 22.0000]), tensor([ 5.9000, 22.0000]), tensor([11., 22.]))"
      ]
     },
     "execution_count": 61,
     "metadata": {},
     "output_type": "execute_result"
    }
   ],
   "source": [
    "t1, t2, t3"
   ]
  },
  {
   "cell_type": "code",
   "execution_count": 62,
   "id": "76e7e150",
   "metadata": {},
   "outputs": [],
   "source": [
    "import numpy as np"
   ]
  },
  {
   "cell_type": "code",
   "execution_count": 75,
   "id": "85bbd17e",
   "metadata": {},
   "outputs": [],
   "source": [
    "arr=np.linspace(1, 10, 6)"
   ]
  },
  {
   "cell_type": "code",
   "execution_count": 76,
   "id": "b8790e51",
   "metadata": {},
   "outputs": [],
   "source": [
    "t1=torch.tensor(arr)"
   ]
  },
  {
   "cell_type": "code",
   "execution_count": 77,
   "id": "b7fc1b39",
   "metadata": {},
   "outputs": [],
   "source": [
    "t2=torch.from_numpy(arr)\n",
    "t3=torch.as_tensor(arr)"
   ]
  },
  {
   "cell_type": "code",
   "execution_count": 81,
   "id": "b2907e55",
   "metadata": {},
   "outputs": [],
   "source": [
    "arr[0]=55"
   ]
  },
  {
   "cell_type": "code",
   "execution_count": 82,
   "id": "cf593b9d",
   "metadata": {},
   "outputs": [
    {
     "data": {
      "text/plain": [
       "(tensor([100.0000,   2.8000,   4.6000,   6.4000,   8.2000,  10.0000],\n",
       "        dtype=torch.float64),\n",
       " tensor([55.0000,  2.8000,  4.6000,  6.4000,  8.2000, 10.0000],\n",
       "        dtype=torch.float64),\n",
       " tensor([55.0000,  2.8000,  4.6000,  6.4000,  8.2000, 10.0000],\n",
       "        dtype=torch.float64))"
      ]
     },
     "execution_count": 82,
     "metadata": {},
     "output_type": "execute_result"
    }
   ],
   "source": [
    "t1, t2, t3"
   ]
  },
  {
   "cell_type": "code",
   "execution_count": 84,
   "id": "66508f50",
   "metadata": {},
   "outputs": [],
   "source": [
    "t3=torch.arange(2)\n",
    "t4=torch.arange(1, 10)\n",
    "t5=torch.arange(1, 10, 3)"
   ]
  },
  {
   "cell_type": "code",
   "execution_count": 85,
   "id": "d73230c1",
   "metadata": {},
   "outputs": [
    {
     "name": "stdout",
     "output_type": "stream",
     "text": [
      "\n",
      "--- [t3] ---\n",
      "형태 : torch.Size([2]), torch.Size([2])\n",
      "차원 : 1, 1\n",
      "타입 : torch.int64\n",
      "위치 : cpu\n",
      "tensor([0, 1])\n",
      "\n",
      "--- [t4] ---\n",
      "형태 : torch.Size([9]), torch.Size([9])\n",
      "차원 : 1, 1\n",
      "타입 : torch.int64\n",
      "위치 : cpu\n",
      "tensor([1, 2, 3, 4, 5, 6, 7, 8, 9])\n",
      "\n",
      "--- [t5] ---\n",
      "형태 : torch.Size([3]), torch.Size([3])\n",
      "차원 : 1, 1\n",
      "타입 : torch.int64\n",
      "위치 : cpu\n",
      "tensor([1, 4, 7])\n"
     ]
    }
   ],
   "source": [
    "printAttribute(t3, 't3')\n",
    "printAttribute(t4, 't4')\n",
    "printAttribute(t5, 't5')"
   ]
  },
  {
   "cell_type": "code",
   "execution_count": 86,
   "id": "c5a174cc",
   "metadata": {},
   "outputs": [],
   "source": [
    "t4=torch.linspace(1, 10, 2)"
   ]
  },
  {
   "cell_type": "code",
   "execution_count": 87,
   "id": "25a30f77",
   "metadata": {},
   "outputs": [
    {
     "data": {
      "text/plain": [
       "tensor([ 1., 10.])"
      ]
     },
     "execution_count": 87,
     "metadata": {},
     "output_type": "execute_result"
    }
   ],
   "source": [
    "t4"
   ]
  },
  {
   "cell_type": "code",
   "execution_count": 88,
   "id": "38f8229c",
   "metadata": {},
   "outputs": [
    {
     "data": {
      "text/plain": [
       "(tensor(1.), tensor(10.))"
      ]
     },
     "execution_count": 88,
     "metadata": {},
     "output_type": "execute_result"
    }
   ],
   "source": [
    "t4[0] , t4[-1]"
   ]
  },
  {
   "cell_type": "code",
   "execution_count": 89,
   "id": "0d401a2b",
   "metadata": {},
   "outputs": [
    {
     "data": {
      "text/plain": [
       "tensor([ 1., 10.])"
      ]
     },
     "execution_count": 89,
     "metadata": {},
     "output_type": "execute_result"
    }
   ],
   "source": [
    "t4[:3]"
   ]
  },
  {
   "cell_type": "code",
   "execution_count": 90,
   "id": "cdc46a65",
   "metadata": {},
   "outputs": [
    {
     "data": {
      "text/plain": [
       "tensor([10., 10.])"
      ]
     },
     "execution_count": 90,
     "metadata": {},
     "output_type": "execute_result"
    }
   ],
   "source": [
    "t4[[1,-1]]"
   ]
  },
  {
   "cell_type": "code",
   "execution_count": 95,
   "id": "b03a6fdf",
   "metadata": {},
   "outputs": [],
   "source": [
    "t1=torch.FloatTensor([1,2])\n",
    "t2=torch.FloatTensor([3,4])\n",
    "t3=torch.FloatTensor([3])"
   ]
  },
  {
   "cell_type": "code",
   "execution_count": 96,
   "id": "4e7cf280",
   "metadata": {},
   "outputs": [
    {
     "data": {
      "text/plain": [
       "(tensor([1., 2.]), tensor([3., 4.]), tensor([3.]))"
      ]
     },
     "execution_count": 96,
     "metadata": {},
     "output_type": "execute_result"
    }
   ],
   "source": [
    "t1, t2, t3"
   ]
  },
  {
   "cell_type": "code",
   "execution_count": 97,
   "id": "a9955c61",
   "metadata": {},
   "outputs": [],
   "source": [
    "t4=t1+t2\n",
    "t5=t1+t3"
   ]
  },
  {
   "cell_type": "code",
   "execution_count": 98,
   "id": "9e4b2fa6",
   "metadata": {},
   "outputs": [
    {
     "data": {
      "text/plain": [
       "(tensor([4., 6.]), tensor([4., 5.]))"
      ]
     },
     "execution_count": 98,
     "metadata": {},
     "output_type": "execute_result"
    }
   ],
   "source": [
    "t4, t5"
   ]
  },
  {
   "cell_type": "code",
   "execution_count": 99,
   "id": "1b0ec5f6",
   "metadata": {},
   "outputs": [],
   "source": [
    "t1=torch.FloatTensor([[2,3]])\n",
    "t2=torch.FloatTensor([[3],[4]])"
   ]
  },
  {
   "cell_type": "code",
   "execution_count": 102,
   "id": "78ad0e05",
   "metadata": {},
   "outputs": [
    {
     "data": {
      "text/plain": [
       "(tensor([[2., 3.]]), torch.Size([1, 2]))"
      ]
     },
     "execution_count": 102,
     "metadata": {},
     "output_type": "execute_result"
    }
   ],
   "source": [
    "t1, t1.shape"
   ]
  },
  {
   "cell_type": "code",
   "execution_count": 103,
   "id": "5f3ed814",
   "metadata": {},
   "outputs": [
    {
     "data": {
      "text/plain": [
       "(tensor([[3.],\n",
       "         [4.]]),\n",
       " torch.Size([2, 1]))"
      ]
     },
     "execution_count": 103,
     "metadata": {},
     "output_type": "execute_result"
    }
   ],
   "source": [
    "t2, t2.shape"
   ]
  },
  {
   "cell_type": "code",
   "execution_count": 104,
   "id": "3c9c2364",
   "metadata": {},
   "outputs": [],
   "source": [
    "t3=t1+t2"
   ]
  },
  {
   "cell_type": "code",
   "execution_count": 105,
   "id": "7cdf84c2",
   "metadata": {},
   "outputs": [
    {
     "data": {
      "text/plain": [
       "tensor([[5., 6.],\n",
       "        [6., 7.]])"
      ]
     },
     "execution_count": 105,
     "metadata": {},
     "output_type": "execute_result"
    }
   ],
   "source": [
    "t3"
   ]
  },
  {
   "cell_type": "code",
   "execution_count": 106,
   "id": "bdc391aa",
   "metadata": {},
   "outputs": [],
   "source": [
    "t4=t1*t2"
   ]
  },
  {
   "cell_type": "code",
   "execution_count": 107,
   "id": "cfa26ce5",
   "metadata": {},
   "outputs": [
    {
     "data": {
      "text/plain": [
       "tensor([[ 6.,  9.],\n",
       "        [ 8., 12.]])"
      ]
     },
     "execution_count": 107,
     "metadata": {},
     "output_type": "execute_result"
    }
   ],
   "source": [
    "t4"
   ]
  },
  {
   "cell_type": "code",
   "execution_count": 108,
   "id": "db7c89f5",
   "metadata": {},
   "outputs": [],
   "source": [
    "m1 = torch.FloatTensor([[1, 2], [3, 4]])\n",
    "m2 = torch.FloatTensor([[1], [2]])"
   ]
  },
  {
   "cell_type": "code",
   "execution_count": 109,
   "id": "d6fbf8e1",
   "metadata": {},
   "outputs": [
    {
     "name": "stdout",
     "output_type": "stream",
     "text": [
      "Shape of Matrix 1:  torch.Size([2, 2])\n",
      "Shape of Matrix 2:  torch.Size([2, 1])\n"
     ]
    }
   ],
   "source": [
    "print('Shape of Matrix 1: ', m1.shape)  \n",
    "print('Shape of Matrix 2: ', m2.shape)"
   ]
  },
  {
   "cell_type": "code",
   "execution_count": 110,
   "id": "236bc486",
   "metadata": {},
   "outputs": [
    {
     "data": {
      "text/plain": [
       "tensor([[1., 2.],\n",
       "        [6., 8.]])"
      ]
     },
     "execution_count": 110,
     "metadata": {},
     "output_type": "execute_result"
    }
   ],
   "source": [
    "m1*m2"
   ]
  },
  {
   "cell_type": "code",
   "execution_count": 111,
   "id": "3f65ae97",
   "metadata": {},
   "outputs": [
    {
     "data": {
      "text/plain": [
       "tensor([[1., 2.],\n",
       "        [6., 8.]])"
      ]
     },
     "execution_count": 111,
     "metadata": {},
     "output_type": "execute_result"
    }
   ],
   "source": [
    "m1.mul(m2)"
   ]
  },
  {
   "cell_type": "code",
   "execution_count": 113,
   "id": "f3f22aab",
   "metadata": {},
   "outputs": [],
   "source": [
    "m12=m1.matmul(m2)"
   ]
  },
  {
   "cell_type": "code",
   "execution_count": 114,
   "id": "a4f4c9c0",
   "metadata": {},
   "outputs": [
    {
     "data": {
      "text/plain": [
       "torch.Size([2, 1])"
      ]
     },
     "execution_count": 114,
     "metadata": {},
     "output_type": "execute_result"
    }
   ],
   "source": [
    "m12.shape"
   ]
  },
  {
   "cell_type": "code",
   "execution_count": 115,
   "id": "7070b111",
   "metadata": {},
   "outputs": [
    {
     "data": {
      "text/plain": [
       "tensor([[1., 2.],\n",
       "        [3., 4.]])"
      ]
     },
     "execution_count": 115,
     "metadata": {},
     "output_type": "execute_result"
    }
   ],
   "source": [
    "m1"
   ]
  },
  {
   "cell_type": "code",
   "execution_count": 116,
   "id": "a0554a3f",
   "metadata": {},
   "outputs": [
    {
     "data": {
      "text/plain": [
       "tensor([[1.],\n",
       "        [2.]])"
      ]
     },
     "execution_count": 116,
     "metadata": {},
     "output_type": "execute_result"
    }
   ],
   "source": [
    "m2"
   ]
  },
  {
   "cell_type": "code",
   "execution_count": 125,
   "id": "8c498b23",
   "metadata": {},
   "outputs": [],
   "source": [
    "x = torch.ones(2,3)   "
   ]
  },
  {
   "cell_type": "code",
   "execution_count": 126,
   "id": "99e9dd14",
   "metadata": {},
   "outputs": [
    {
     "data": {
      "text/plain": [
       "tensor([[1., 1., 1.],\n",
       "        [1., 1., 1.]])"
      ]
     },
     "execution_count": 126,
     "metadata": {},
     "output_type": "execute_result"
    }
   ],
   "source": [
    "x"
   ]
  },
  {
   "cell_type": "code",
   "execution_count": 127,
   "id": "ffab8d87",
   "metadata": {},
   "outputs": [],
   "source": [
    "x1=x.unsqueeze(dim=0)"
   ]
  },
  {
   "cell_type": "code",
   "execution_count": 128,
   "id": "d92329dd",
   "metadata": {},
   "outputs": [
    {
     "data": {
      "text/plain": [
       "(torch.Size([1, 2, 3]),)"
      ]
     },
     "execution_count": 128,
     "metadata": {},
     "output_type": "execute_result"
    }
   ],
   "source": [
    "x1.shape, "
   ]
  },
  {
   "cell_type": "code",
   "execution_count": 129,
   "id": "f9c45761",
   "metadata": {},
   "outputs": [
    {
     "data": {
      "text/plain": [
       "tensor([[[1., 1., 1.],\n",
       "         [1., 1., 1.]]])"
      ]
     },
     "execution_count": 129,
     "metadata": {},
     "output_type": "execute_result"
    }
   ],
   "source": [
    "x1"
   ]
  },
  {
   "cell_type": "code",
   "execution_count": 130,
   "id": "8ad8e42f",
   "metadata": {},
   "outputs": [],
   "source": [
    "x2=x.unsqueeze(dim=-1)"
   ]
  },
  {
   "cell_type": "code",
   "execution_count": 132,
   "id": "5cfa3569",
   "metadata": {},
   "outputs": [
    {
     "data": {
      "text/plain": [
       "(tensor([[[1.],\n",
       "          [1.],\n",
       "          [1.]],\n",
       " \n",
       "         [[1.],\n",
       "          [1.],\n",
       "          [1.]]]),\n",
       " torch.Size([2, 3, 1]))"
      ]
     },
     "execution_count": 132,
     "metadata": {},
     "output_type": "execute_result"
    }
   ],
   "source": [
    "x2, x2.shape"
   ]
  },
  {
   "cell_type": "code",
   "execution_count": 133,
   "id": "5445fcc4",
   "metadata": {},
   "outputs": [],
   "source": [
    "t1=torch.LongTensor([1,2,3,4])"
   ]
  },
  {
   "cell_type": "code",
   "execution_count": 138,
   "id": "890a6849",
   "metadata": {},
   "outputs": [
    {
     "data": {
      "text/plain": [
       "torch.int64"
      ]
     },
     "execution_count": 138,
     "metadata": {},
     "output_type": "execute_result"
    }
   ],
   "source": [
    "t1.dtype"
   ]
  },
  {
   "cell_type": "code",
   "execution_count": 139,
   "id": "158bcf87",
   "metadata": {},
   "outputs": [],
   "source": [
    "t2=t1.float()"
   ]
  },
  {
   "cell_type": "code",
   "execution_count": 140,
   "id": "39b2541e",
   "metadata": {},
   "outputs": [
    {
     "data": {
      "text/plain": [
       "torch.float32"
      ]
     },
     "execution_count": 140,
     "metadata": {},
     "output_type": "execute_result"
    }
   ],
   "source": [
    "t2.dtype"
   ]
  },
  {
   "cell_type": "code",
   "execution_count": 143,
   "id": "dbd70348",
   "metadata": {},
   "outputs": [],
   "source": [
    "t3=t1.double()"
   ]
  },
  {
   "cell_type": "code",
   "execution_count": 145,
   "id": "b5a1b284",
   "metadata": {},
   "outputs": [
    {
     "data": {
      "text/plain": [
       "torch.float64"
      ]
     },
     "execution_count": 145,
     "metadata": {},
     "output_type": "execute_result"
    }
   ],
   "source": [
    "t3.dtype"
   ]
  },
  {
   "cell_type": "code",
   "execution_count": 146,
   "id": "358d4d2f",
   "metadata": {},
   "outputs": [],
   "source": [
    "t4=t1.char()"
   ]
  },
  {
   "cell_type": "code",
   "execution_count": 148,
   "id": "7b8c00f5",
   "metadata": {},
   "outputs": [
    {
     "data": {
      "text/plain": [
       "torch.int8"
      ]
     },
     "execution_count": 148,
     "metadata": {},
     "output_type": "execute_result"
    }
   ],
   "source": [
    "t4.dtype"
   ]
  },
  {
   "cell_type": "code",
   "execution_count": 149,
   "id": "476da450",
   "metadata": {},
   "outputs": [],
   "source": [
    "t5=t1.bool()"
   ]
  },
  {
   "cell_type": "code",
   "execution_count": 150,
   "id": "c2cc6569",
   "metadata": {},
   "outputs": [
    {
     "data": {
      "text/plain": [
       "torch.bool"
      ]
     },
     "execution_count": 150,
     "metadata": {},
     "output_type": "execute_result"
    }
   ],
   "source": [
    "t5.dtype"
   ]
  },
  {
   "cell_type": "code",
   "execution_count": 151,
   "id": "332108d3",
   "metadata": {},
   "outputs": [
    {
     "data": {
      "text/plain": [
       "tensor([True, True, True, True])"
      ]
     },
     "execution_count": 151,
     "metadata": {},
     "output_type": "execute_result"
    }
   ],
   "source": [
    "t5"
   ]
  },
  {
   "cell_type": "code",
   "execution_count": 168,
   "id": "574ac979",
   "metadata": {},
   "outputs": [],
   "source": [
    "w = torch.tensor(3.0, requires_grad = True)\n",
    "y = w**3 + 10"
   ]
  },
  {
   "cell_type": "code",
   "execution_count": 169,
   "id": "4118fac3",
   "metadata": {},
   "outputs": [],
   "source": [
    "y.backward()   # y 수식에 대한 미분 진행"
   ]
  },
  {
   "cell_type": "code",
   "execution_count": 171,
   "id": "badf4482",
   "metadata": {},
   "outputs": [
    {
     "name": "stdout",
     "output_type": "stream",
     "text": [
      "y를 w로 미분한 값 : 27.0\n",
      "<class 'torch.Tensor'>\n"
     ]
    }
   ],
   "source": [
    "print(f'y를 w로 미분한 값 : {w.grad}')\n",
    "print(type(w))"
   ]
  },
  {
   "cell_type": "code",
   "execution_count": 155,
   "id": "d6d640d5",
   "metadata": {},
   "outputs": [],
   "source": [
    "import torch\n",
    "import torch.nn as nn"
   ]
  },
  {
   "cell_type": "code",
   "execution_count": 156,
   "id": "40c01271",
   "metadata": {},
   "outputs": [],
   "source": [
    "x = torch.ones(5)  # 입력\n",
    "y = torch.zeros(3)  # 출력\n",
    "\n",
    "w = torch.randn(5, 3, requires_grad=True) # 가중치\n",
    "b = torch.randn(3, requires_grad=True) # 편향"
   ]
  },
  {
   "cell_type": "code",
   "execution_count": 157,
   "id": "d18316a6",
   "metadata": {},
   "outputs": [],
   "source": [
    "z = torch.matmul(x, w) + b\n",
    "loss_fn = nn.MSELoss() # 손실 함수"
   ]
  },
  {
   "cell_type": "code",
   "execution_count": 158,
   "id": "2e221789",
   "metadata": {},
   "outputs": [],
   "source": [
    "loss = loss_fn(z, y)\n",
    "\n",
    "loss.backward()"
   ]
  },
  {
   "cell_type": "code",
   "execution_count": 159,
   "id": "0c0865d9",
   "metadata": {},
   "outputs": [
    {
     "name": "stdout",
     "output_type": "stream",
     "text": [
      "loss를 w로 미분한 값 :\n",
      " tensor([[-0.2401,  0.6350,  1.4047],\n",
      "        [-0.2401,  0.6350,  1.4047],\n",
      "        [-0.2401,  0.6350,  1.4047],\n",
      "        [-0.2401,  0.6350,  1.4047],\n",
      "        [-0.2401,  0.6350,  1.4047]])\n",
      "loss를 b로 미분한 값 : tensor([-0.2401,  0.6350,  1.4047])\n"
     ]
    }
   ],
   "source": [
    "print(f'loss를 w로 미분한 값 :\\n {w.grad}')\n",
    "print(f'loss를 b로 미분한 값 : {b.grad}')"
   ]
  },
  {
   "cell_type": "markdown",
   "id": "ba2cf0e9",
   "metadata": {},
   "source": [
    "### PyTorch 파일 수정입니다."
   ]
  },
  {
   "cell_type": "code",
   "execution_count": null,
   "id": "241a0034",
   "metadata": {},
   "outputs": [],
   "source": []
  }
 ],
 "metadata": {
  "kernelspec": {
   "display_name": "torch_39",
   "language": "python",
   "name": "torch_39"
  },
  "language_info": {
   "codemirror_mode": {
    "name": "ipython",
    "version": 3
   },
   "file_extension": ".py",
   "mimetype": "text/x-python",
   "name": "python",
   "nbconvert_exporter": "python",
   "pygments_lexer": "ipython3",
   "version": "3.9.17"
  }
 },
 "nbformat": 4,
 "nbformat_minor": 5
}
