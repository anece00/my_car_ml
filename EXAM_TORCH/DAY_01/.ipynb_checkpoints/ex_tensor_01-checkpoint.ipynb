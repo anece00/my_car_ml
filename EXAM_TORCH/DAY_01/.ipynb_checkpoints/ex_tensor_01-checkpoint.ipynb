{
 "cells": [
  {
   "cell_type": "code",
   "execution_count": 2,
   "id": "6ae6b7c0",
   "metadata": {},
   "outputs": [],
   "source": [
    "import torch"
   ]
  },
  {
   "cell_type": "markdown",
   "id": "979b1348",
   "metadata": {},
   "source": [
    "#### - GPU 가용여부"
   ]
  },
  {
   "cell_type": "code",
   "execution_count": 10,
   "id": "e500bdd4",
   "metadata": {},
   "outputs": [
    {
     "name": "stdout",
     "output_type": "stream",
     "text": [
      "No GPU!\n"
     ]
    }
   ],
   "source": [
    "if torch.cuda.is_available():\n",
    "    print(f'{torch.cuda.current_device()}')\n",
    "    print(f'{torch.cuda.get_device_name()}')\n",
    "    print(f'{torch.cuda.get_device_capability()}')\n",
    "else:\n",
    "    print('No GPU!')"
   ]
  },
  {
   "cell_type": "code",
   "execution_count": null,
   "id": "2a37ff65",
   "metadata": {},
   "outputs": [],
   "source": []
  },
  {
   "cell_type": "code",
   "execution_count": null,
   "id": "ec852ae1",
   "metadata": {},
   "outputs": [],
   "source": []
  },
  {
   "cell_type": "code",
   "execution_count": null,
   "id": "2016a2cf",
   "metadata": {},
   "outputs": [],
   "source": []
  },
  {
   "cell_type": "code",
   "execution_count": null,
   "id": "40d5339e",
   "metadata": {},
   "outputs": [],
   "source": []
  },
  {
   "cell_type": "code",
   "execution_count": null,
   "id": "db5b0d9b",
   "metadata": {},
   "outputs": [],
   "source": []
  },
  {
   "cell_type": "markdown",
   "id": "74f9aa42",
   "metadata": {},
   "source": [
    "- Tensor 생성"
   ]
  },
  {
   "cell_type": "code",
   "execution_count": 51,
   "id": "745d038e",
   "metadata": {},
   "outputs": [],
   "source": [
    "# Tensor 속성 출력 함수 ---------------------------------------------\n",
    "def printAttribute(tensor_, name):\n",
    "    print(f'\\n--- [{name}] ---')\n",
    "    print(f'형태 : {tensor_.shape}')\n",
    "    print(f'차원 : {tensor_.ndim}')\n",
    "    print(f'타입 : {tensor_.dtype}')\n",
    "    print(f'위치 : {tensor_.device}')\n",
    "    print(tensor_.data)"
   ]
  },
  {
   "cell_type": "code",
   "execution_count": 52,
   "id": "4e308bad",
   "metadata": {},
   "outputs": [],
   "source": [
    "t1=torch.tensor([1,2,3,4])\n",
    "t2=torch.tensor([11,22], dtype=torch.float16)\n",
    "t3=torch.tensor([[1,1],[4,5]])"
   ]
  },
  {
   "cell_type": "code",
   "execution_count": 53,
   "id": "d1023cb4",
   "metadata": {},
   "outputs": [
    {
     "name": "stdout",
     "output_type": "stream",
     "text": [
      "\n",
      "--- [t1] ---\n",
      "형태 : torch.Size([4])\n",
      "차원 : 1\n",
      "타입 : torch.int64\n",
      "위치 : cpu\n",
      "tensor([1, 2, 3, 4])\n",
      "\n",
      "--- [t2] ---\n",
      "형태 : torch.Size([2])\n",
      "차원 : 1\n",
      "타입 : torch.float16\n",
      "위치 : cpu\n",
      "tensor([11., 22.], dtype=torch.float16)\n",
      "\n",
      "--- [t3] ---\n",
      "형태 : torch.Size([2, 2])\n",
      "차원 : 2\n",
      "타입 : torch.int64\n",
      "위치 : cpu\n",
      "tensor([[1, 1],\n",
      "        [4, 5]])\n"
     ]
    }
   ],
   "source": [
    "printAttribute(t1, 't1')\n",
    "printAttribute(t2, 't2')\n",
    "printAttribute(t3, 't3')"
   ]
  },
  {
   "cell_type": "markdown",
   "id": "0695e72b",
   "metadata": {},
   "source": [
    "- 특정 타입의 텐서 생성"
   ]
  },
  {
   "cell_type": "code",
   "execution_count": 58,
   "id": "3374b885",
   "metadata": {},
   "outputs": [],
   "source": [
    "t1=torch.FloatTensor([1,2])\n",
    "t2=torch.IntTensor([11,22])\n",
    "t3=torch.DoubleTensor([1,2])\n",
    "t4=torch.CharTensor([1,2])\n",
    "t5=torch.LongTensor([1,2])\n",
    "t6=torch.BoolTensor([1,2,0])\n",
    "t7=torch.Tensor([1,2,0])\n",
    "t8=torch.Tensor([1.,2,0])"
   ]
  },
  {
   "cell_type": "code",
   "execution_count": 59,
   "id": "10164102",
   "metadata": {
    "scrolled": true
   },
   "outputs": [
    {
     "name": "stdout",
     "output_type": "stream",
     "text": [
      "\n",
      "--- [t1 - FloatTensor] ---\n",
      "형태 : torch.Size([2])\n",
      "차원 : 1\n",
      "타입 : torch.float32\n",
      "위치 : cpu\n",
      "tensor([1., 2.])\n",
      "\n",
      "--- [t2 - IntTensor] ---\n",
      "형태 : torch.Size([2])\n",
      "차원 : 1\n",
      "타입 : torch.int32\n",
      "위치 : cpu\n",
      "tensor([11, 22], dtype=torch.int32)\n",
      "\n",
      "--- [t3 - DoubleTensor] ---\n",
      "형태 : torch.Size([2])\n",
      "차원 : 1\n",
      "타입 : torch.float64\n",
      "위치 : cpu\n",
      "tensor([1., 2.], dtype=torch.float64)\n",
      "\n",
      "--- [t4 - CharTensor] ---\n",
      "형태 : torch.Size([2])\n",
      "차원 : 1\n",
      "타입 : torch.int8\n",
      "위치 : cpu\n",
      "tensor([1, 2], dtype=torch.int8)\n",
      "\n",
      "--- [t5 - LongTensor] ---\n",
      "형태 : torch.Size([2])\n",
      "차원 : 1\n",
      "타입 : torch.int64\n",
      "위치 : cpu\n",
      "tensor([1, 2])\n",
      "\n",
      "--- [t6 - BoolTensor] ---\n",
      "형태 : torch.Size([3])\n",
      "차원 : 1\n",
      "타입 : torch.bool\n",
      "위치 : cpu\n",
      "tensor([ True,  True, False])\n",
      "\n",
      "--- [t7 - Tensor] ---\n",
      "형태 : torch.Size([3])\n",
      "차원 : 1\n",
      "타입 : torch.float32\n",
      "위치 : cpu\n",
      "tensor([1., 2., 0.])\n",
      "\n",
      "--- [t8 - Tensor] ---\n",
      "형태 : torch.Size([3])\n",
      "차원 : 1\n",
      "타입 : torch.float32\n",
      "위치 : cpu\n",
      "tensor([1., 2., 0.])\n"
     ]
    }
   ],
   "source": [
    "printAttribute(t1, 't1 - FloatTensor')\n",
    "printAttribute(t2, 't2 - IntTensor')\n",
    "printAttribute(t3, 't3 - DoubleTensor')\n",
    "printAttribute(t4, 't4 - CharTensor')\n",
    "printAttribute(t5, 't5 - LongTensor')\n",
    "printAttribute(t6, 't6 - BoolTensor')\n",
    "printAttribute(t7, 't7 - Tensor')\n",
    "printAttribute(t8, 't8 - Tensor')"
   ]
  },
  {
   "cell_type": "markdown",
   "id": "982cbe2f",
   "metadata": {},
   "source": [
    "### ▶ 특정값으로 채운 Tensor 생성"
   ]
  },
  {
   "cell_type": "code",
   "execution_count": 60,
   "id": "6c6e4577",
   "metadata": {},
   "outputs": [],
   "source": [
    "t1=torch.ones((2,))\n",
    "t2=torch.ones((3,4))"
   ]
  },
  {
   "cell_type": "code",
   "execution_count": 61,
   "id": "629c3f42",
   "metadata": {
    "collapsed": true
   },
   "outputs": [
    {
     "name": "stdout",
     "output_type": "stream",
     "text": [
      "\n",
      "--- [t1] ---\n",
      "형태 : torch.Size([2])\n",
      "차원 : 1\n",
      "타입 : torch.float32\n",
      "위치 : cpu\n",
      "tensor([1., 1.])\n",
      "\n",
      "--- [t2] ---\n",
      "형태 : torch.Size([3, 4])\n",
      "차원 : 2\n",
      "타입 : torch.float32\n",
      "위치 : cpu\n",
      "tensor([[1., 1., 1., 1.],\n",
      "        [1., 1., 1., 1.],\n",
      "        [1., 1., 1., 1.]])\n"
     ]
    }
   ],
   "source": [
    "printAttribute(t1, 't1')\n",
    "printAttribute(t2, 't2')"
   ]
  },
  {
   "cell_type": "code",
   "execution_count": 62,
   "id": "d604b5ce",
   "metadata": {},
   "outputs": [
    {
     "name": "stdout",
     "output_type": "stream",
     "text": [
      "\n",
      "--- [t1] ---\n",
      "형태 : torch.Size([2])\n",
      "차원 : 1\n",
      "타입 : torch.float32\n",
      "위치 : cpu\n",
      "tensor([0., 0.])\n",
      "\n",
      "--- [t2] ---\n",
      "형태 : torch.Size([3, 4])\n",
      "차원 : 2\n",
      "타입 : torch.float32\n",
      "위치 : cpu\n",
      "tensor([[0., 0., 0., 0.],\n",
      "        [0., 0., 0., 0.],\n",
      "        [0., 0., 0., 0.]])\n"
     ]
    }
   ],
   "source": [
    "t1=torch.zeros((2,))\n",
    "t2=torch.zeros((3,4))\n",
    "\n",
    "printAttribute(t1, 't1')\n",
    "printAttribute(t2, 't2')"
   ]
  },
  {
   "cell_type": "code",
   "execution_count": 68,
   "id": "8b2aa7ff",
   "metadata": {},
   "outputs": [
    {
     "name": "stdout",
     "output_type": "stream",
     "text": [
      "\n",
      "--- [t1] ---\n",
      "형태 : torch.Size([2])\n",
      "차원 : 1\n",
      "타입 : torch.int64\n",
      "위치 : cpu\n",
      "tensor([9, 9])\n",
      "\n",
      "--- [t2] ---\n",
      "형태 : torch.Size([3, 4])\n",
      "차원 : 2\n",
      "타입 : torch.int64\n",
      "위치 : cpu\n",
      "tensor([[7, 7, 7, 7],\n",
      "        [7, 7, 7, 7],\n",
      "        [7, 7, 7, 7]])\n"
     ]
    }
   ],
   "source": [
    "# 지정된 값으로 채운 Tensor\n",
    "t1=torch.full((2,), 9)\n",
    "t2=torch.full((3,4), 7)\n",
    "\n",
    "printAttribute(t1, 't1')\n",
    "printAttribute(t2, 't2')"
   ]
  },
  {
   "cell_type": "code",
   "execution_count": 67,
   "id": "5d67f6f4",
   "metadata": {},
   "outputs": [
    {
     "name": "stdout",
     "output_type": "stream",
     "text": [
      "\n",
      "--- [t1] ---\n",
      "형태 : torch.Size([3, 3])\n",
      "차원 : 2\n",
      "타입 : torch.float32\n",
      "위치 : cpu\n",
      "tensor([[1., 0., 0.],\n",
      "        [0., 1., 0.],\n",
      "        [0., 0., 1.]])\n",
      "\n",
      "--- [t2] ---\n",
      "형태 : torch.Size([2, 2])\n",
      "차원 : 2\n",
      "타입 : torch.float32\n",
      "위치 : cpu\n",
      "tensor([[1., 0.],\n",
      "        [0., 1.]])\n"
     ]
    }
   ],
   "source": [
    "# 대각선으로만 1을 채운 Tensor, 대칭행렬\n",
    "t1=torch.eye(3)\n",
    "t2=torch.eye(2)\n",
    "\n",
    "printAttribute(t1, 't1')\n",
    "printAttribute(t2, 't2')"
   ]
  },
  {
   "cell_type": "code",
   "execution_count": 69,
   "id": "bcfcca15",
   "metadata": {},
   "outputs": [
    {
     "name": "stdout",
     "output_type": "stream",
     "text": [
      "\n",
      "--- [t1] ---\n",
      "형태 : torch.Size([3, 3])\n",
      "차원 : 2\n",
      "타입 : torch.float32\n",
      "위치 : cpu\n",
      "tensor([[1., 0., 0.],\n",
      "        [0., 1., 0.],\n",
      "        [0., 0., 1.]])\n",
      "\n",
      "--- [t2] ---\n",
      "형태 : torch.Size([2, 2])\n",
      "차원 : 2\n",
      "타입 : torch.float32\n",
      "위치 : cpu\n",
      "tensor([[1., 0.],\n",
      "        [0., 1.]])\n"
     ]
    }
   ],
   "source": [
    "# 임의의 값으로 채운 Tensor\n",
    "t1=torch.rand((2,3))\n",
    "t2=torch.eye(2)\n",
    "\n",
    "printAttribute(t1, 't1')\n",
    "printAttribute(t2, 't2')"
   ]
  },
  {
   "cell_type": "code",
   "execution_count": null,
   "id": "afc217d5",
   "metadata": {},
   "outputs": [],
   "source": []
  }
 ],
 "metadata": {
  "kernelspec": {
   "display_name": "torch_39",
   "language": "python",
   "name": "torch_39"
  },
  "language_info": {
   "codemirror_mode": {
    "name": "ipython",
    "version": 3
   },
   "file_extension": ".py",
   "mimetype": "text/x-python",
   "name": "python",
   "nbconvert_exporter": "python",
   "pygments_lexer": "ipython3",
   "version": "3.9.17"
  }
 },
 "nbformat": 4,
 "nbformat_minor": 5
}
