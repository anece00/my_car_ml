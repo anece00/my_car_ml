{
 "cells": [
  {
   "cell_type": "markdown",
   "id": "d5f801c9",
   "metadata": {},
   "source": [
    "###  사용자 정의 클래스 생성 이해"
   ]
  },
  {
   "cell_type": "code",
   "execution_count": null,
   "id": "1a86086a",
   "metadata": {},
   "outputs": [],
   "source": []
  }
 ],
 "metadata": {
  "kernelspec": {
   "display_name": "torch_39",
   "language": "python",
   "name": "torch_39"
  },
  "language_info": {
   "codemirror_mode": {
    "name": "ipython",
    "version": 3
   },
   "file_extension": ".py",
   "mimetype": "text/x-python",
   "name": "python",
   "nbconvert_exporter": "python",
   "pygments_lexer": "ipython3",
   "version": "3.9.17"
  }
 },
 "nbformat": 4,
 "nbformat_minor": 5
}
